{
 "cells": [
  {
   "cell_type": "code",
   "execution_count": 13,
   "id": "8e53ca51",
   "metadata": {},
   "outputs": [],
   "source": [
    "import regex\n",
    "import pandas as pd"
   ]
  },
  {
   "cell_type": "code",
   "execution_count": 19,
   "id": "5f8cae79",
   "metadata": {},
   "outputs": [
    {
     "name": "stdout",
     "output_type": "stream",
     "text": [
      "AWS offers you a pay-as-you-go approach for pricing for the vast majority of our cloud\n",
      "services. With AWS you pay only for the individual services you need, for as long as you\n",
      "use them, and without requiring long-term contracts or complex licensing. AWS pricing\n",
      "is similar to how you pay for utilities like water and electricity. You only pay for the\n",
      "services you consume, and once you stop using them, there are no additional costs or\n",
      "termination fees\n",
      "AWS Lambda Pricing\n",
      "Id\n",
      "Architecture\n",
      "Duration\n",
      "Requests\n",
      "0\n",
      "First 6 Billion GB-seconds / month\n",
      "$0.0000166667 for\n",
      "every GB-second\n",
      "$0.20 per 1M\n",
      "requests\n",
      "1\n",
      "Next 9 Billion GB-seconds / month\n",
      "$0.000015 for every\n",
      "GB-second\n",
      "$0.20 per 1M\n",
      "requests\n",
      "2\n",
      "Over 15 Billion GB-seconds / month\n",
      "$0.0000133334 for\n",
      "every GB-second\n",
      "$0.20 per 1M\n",
      "requests\n",
      "3\n",
      "First 7.5 Billion GB-seconds / month\n",
      "$0.0000133334 for\n",
      "every GB-second\n",
      "$0.20 per 1M\n",
      "requests\n",
      "4\n",
      "Next 11.25 Billion GB-seconds / month\n",
      "$0.0000120001 for\n",
      "every GB-second\n",
      "$0.20 per 1M\n",
      "requests\n",
      "5\n",
      "Over 18.75 Billion GB-seconds / month\n",
      "$0.0000106667 for\n",
      "every GB-second\n",
      "$0.20 per 1M\n",
      "requests\n",
      "\n"
     ]
    }
   ],
   "source": [
    "import fitz\n",
    "\n",
    "# Open the PDF file\n",
    "with fitz.open('AWS Lambda Pricing.pdf') as pdf:\n",
    "    # Get the total number of pages\n",
    "    num_pages = pdf.page_count\n",
    "\n",
    "    # Extract text from each page\n",
    "    for page_num in range(num_pages):\n",
    "        # Get the Page object\n",
    "        page = pdf[page_num]\n",
    "\n",
    "        # Extract text from the Page object\n",
    "        page_text = page.get_text()\n",
    "\n",
    "        # Print the extracted text\n",
    "        print(page_text)"
   ]
  },
  {
   "cell_type": "code",
   "execution_count": 47,
   "id": "25807a1b",
   "metadata": {},
   "outputs": [
    {
     "data": {
      "text/plain": [
       "'AWS offers you a pay-as-you-go approach for pricing for the vast majority of our cloud\\nservices. With AWS you pay only for the individual services you need, for as long as you\\nuse them, and without requiring long-term contracts or complex licensing. AWS pricing\\nis similar to how you pay for utilities like water and electricity. You only pay for the\\nservices you consume, and once you stop using them, there are no additional costs or\\ntermination fees\\nAWS Lambda Pricing\\nId\\nArchitecture\\nDuration\\nRequests\\n0\\nFirst 6 Billion GB-seconds / month\\n$0.0000166667 for\\nevery GB-second\\n$0.20 per 1M\\nrequests\\n1\\nNext 9 Billion GB-seconds / month\\n$0.000015 for every\\nGB-second\\n$0.20 per 1M\\nrequests\\n2\\nOver 15 Billion GB-seconds / month\\n$0.0000133334 for\\nevery GB-second\\n$0.20 per 1M\\nrequests\\n3\\nFirst 7.5 Billion GB-seconds / month\\n$0.0000133334 for\\nevery GB-second\\n$0.20 per 1M\\nrequests\\n4\\nNext 11.25 Billion GB-seconds / month\\n$0.0000120001 for\\nevery GB-second\\n$0.20 per 1M\\nrequests\\n5\\nOver 18.75 Billion GB-seconds / month\\n$0.0000106667 for\\nevery GB-second\\n$0.20 per 1M\\nrequests\\n'"
      ]
     },
     "execution_count": 47,
     "metadata": {},
     "output_type": "execute_result"
    }
   ],
   "source": [
    "page_text"
   ]
  },
  {
   "cell_type": "code",
   "execution_count": 51,
   "id": "4733b365",
   "metadata": {
    "scrolled": true
   },
   "outputs": [
    {
     "name": "stdout",
     "output_type": "stream",
     "text": [
      "{\n",
      "    \"output\": [\n",
      "        {\n",
      "            \"id\": \"0\",\n",
      "            \"Architecture\": \"First 7.5 Billion GB-seconds / month\",\n",
      "            \"Duration\": \"$0.0000133334 for\\nevery GB-second\",\n",
      "            \"Requests\": \"$0.20 per 1M\\nrequests\"\n",
      "        }\n",
      "    ]\n",
      "}\n"
     ]
    }
   ],
   "source": [
    "import pdfplumber\n",
    "import json\n",
    "\n",
    "# Open the PDF file\n",
    "with pdfplumber.open(\"AWS Lambda Pricing.pdf\") as pdf:\n",
    "\n",
    "    # Get the first page\n",
    "    page = pdf.pages[0]\n",
    "\n",
    "    # Extract the table data\n",
    "    table = page.extract_table()\n",
    "\n",
    "    # Remove the header row\n",
    "    table.pop(0)\n",
    "\n",
    "    # Format the output as a list of dictionaries\n",
    "    output = []\n",
    "    for i, row in enumerate(table):\n",
    "        item = {\"id\": str(i)}\n",
    "        item[\"Architecture\"] = row[1]\n",
    "        item[\"Duration\"] = row[2]\n",
    "        item[\"Requests\"] = row[3]\n",
    "        output.append(item)\n",
    "\n",
    "    # Format the output as JSON\n",
    "    json_output = {\"output\": output}\n",
    "    json_output = json.dumps(json_output, indent=4)\n",
    "\n",
    "    # Print the JSON output\n",
    "    print(json_output)\n"
   ]
  },
  {
   "cell_type": "code",
   "execution_count": 52,
   "id": "11e66f11",
   "metadata": {},
   "outputs": [],
   "source": [
    "#something like that"
   ]
  },
  {
   "cell_type": "code",
   "execution_count": null,
   "id": "68f50302",
   "metadata": {},
   "outputs": [],
   "source": []
  }
 ],
 "metadata": {
  "kernelspec": {
   "display_name": "Python 3 (ipykernel)",
   "language": "python",
   "name": "python3"
  },
  "language_info": {
   "codemirror_mode": {
    "name": "ipython",
    "version": 3
   },
   "file_extension": ".py",
   "mimetype": "text/x-python",
   "name": "python",
   "nbconvert_exporter": "python",
   "pygments_lexer": "ipython3",
   "version": "3.9.13"
  }
 },
 "nbformat": 4,
 "nbformat_minor": 5
}
